{
 "cells": [
  {
   "cell_type": "markdown",
   "metadata": {},
   "source": [
    "ISRC Python Workshop: Introduction\n",
    "\n",
    "___Installation and Environment Setup___"
   ]
  },
  {
   "cell_type": "markdown",
   "metadata": {},
   "source": [
    "<hr>"
   ]
  },
  {
   "cell_type": "markdown",
   "metadata": {},
   "source": [
    "@author: Zhiya Zuo\n",
    "\n",
    "@email: zhiya-zuo@uiowa.edu"
   ]
  },
  {
   "cell_type": "markdown",
   "metadata": {},
   "source": [
    "<hr>"
   ]
  },
  {
   "cell_type": "markdown",
   "metadata": {},
   "source": [
    " Suggested reading for __macOS__ users: [Mac OS X Dev Setup](https://github.com/nicolashery/mac-dev-setup)\n",
    "\n",
    "For __Windows__ users, [this](https://github.com/BurntSushi/nfldb/wiki/Python-&-pip-Windows-installation) may be helpful."
   ]
  },
  {
   "cell_type": "markdown",
   "metadata": {},
   "source": [
    "<hr>"
   ]
  },
  {
   "cell_type": "markdown",
   "metadata": {},
   "source": [
    "#### Introduction"
   ]
  },
  {
   "cell_type": "markdown",
   "metadata": {},
   "source": [
    "~~Across all workshop series, we will be using __Python2.7__. While __Python3.x__ is the future of the language, __Python2.x__ is still very popular and has better library support ([See here](https://wiki.python.org/moin/Python2orPython3)).~~"
   ]
  },
  {
   "cell_type": "markdown",
   "metadata": {},
   "source": [
    "Up to this point (Jan. 2018), I decided to use __Python3__ over __Python2__ since the latter will lose support from Scipy and Numpy soon (https://docs.scipy.org/doc/numpy-1.14.0/neps/dropping-python2.7-proposal.html)"
   ]
  },
  {
   "cell_type": "markdown",
   "metadata": {},
   "source": [
    "##### macOS"
   ]
  },
  {
   "cell_type": "markdown",
   "metadata": {},
   "source": [
    "Use [__Homebrew__](https://brew.sh/) to manage your packages. Open __terminal__ (you can use __spotlight search__ to find it) and run the following command:\n",
    "\n",
    "```bash\n",
    "~$ /usr/bin/ruby -e \"$(curl -fsSL https://raw.githubusercontent.com/Homebrew/install/master/install)\"\n",
    "~$ $ echo 'export PATH=\"/usr/local/bin:$PATH\"' >> ~/.bash_profile\n",
    "```"
   ]
  },
  {
   "cell_type": "markdown",
   "metadata": {},
   "source": [
    "The second line above is to export __brew__'s path to __.bash_profile__, which will be loaded every time you open __terminal__"
   ]
  },
  {
   "cell_type": "markdown",
   "metadata": {},
   "source": [
    "Install __Python3__\n",
    "```bash\n",
    "~$ brew install python3\n",
    "```"
   ]
  },
  {
   "cell_type": "markdown",
   "metadata": {},
   "source": [
    "##### Windows"
   ]
  },
  {
   "cell_type": "markdown",
   "metadata": {},
   "source": [
    "Since I am not very familiar with the path management in __Windows__, I suggest using [Anaconda](https://docs.continuum.io/anaconda/install/) to manage Python and packages, without needing to mess with the path environments. Plus, __Anaconda__ installs Python along with many useful packages."
   ]
  },
  {
   "cell_type": "markdown",
   "metadata": {},
   "source": [
    "<hr>"
   ]
  },
  {
   "cell_type": "markdown",
   "metadata": {},
   "source": [
    "#### virtual environment"
   ]
  },
  {
   "cell_type": "markdown",
   "metadata": {},
   "source": [
    "Sometimes we need different environment setups for different projects. That's when `virtualenv` comes in handy, which helps to create isolated Python environments."
   ]
  },
  {
   "cell_type": "markdown",
   "metadata": {},
   "source": [
    "To illustrate how it works, we will be using [`virtualenvwrapper`](https://virtualenvwrapper.readthedocs.io/en/latest/) to make seperate environments with different packages and versions"
   ]
  },
  {
   "cell_type": "markdown",
   "metadata": {},
   "source": [
    "- For Mac users, let's use [terminal](https://support.apple.com/guide/terminal/welcome/mac)\n",
    "\n",
    "- For Windows users, please open [Anaconda Prompt](http://docs.continuum.io/anaconda/install/windows/)"
   ]
  },
  {
   "cell_type": "markdown",
   "metadata": {},
   "source": [
    "---"
   ]
  },
  {
   "cell_type": "markdown",
   "metadata": {},
   "source": [
    "#### Install __Jupyter Notebook__"
   ]
  },
  {
   "cell_type": "markdown",
   "metadata": {},
   "source": [
    "Reference: \n",
    "1. http://jupyter.readthedocs.io/en/latest/index.html\n",
    "2. https://github.com/ipython-contrib/jupyter_contrib_nbextensions"
   ]
  },
  {
   "cell_type": "markdown",
   "metadata": {},
   "source": [
    "If you are using __Anaconda__, no need to install it."
   ]
  },
  {
   "cell_type": "markdown",
   "metadata": {},
   "source": [
    "Open __terminal__, then:\n",
    "```bash\n",
    "~$ pip3 install jupyter \n",
    "```"
   ]
  },
  {
   "cell_type": "markdown",
   "metadata": {},
   "source": [
    "We will also use __extensions__."
   ]
  },
  {
   "cell_type": "markdown",
   "metadata": {},
   "source": [
    "```bash\n",
    "#use this if NOT using Anaconda\n",
    "~$ pip3 install ipython jupyter jupyter_contrib_nbextensions  \n",
    "```\n",
    "\n",
    "```bash\n",
    "#use this if using Anaconda\n",
    "~$ conda install -c conda-forge jupyter_contrib_nbextensions\n",
    "```"
   ]
  },
  {
   "cell_type": "markdown",
   "metadata": {},
   "source": [
    "Finally, do:\n",
    "```bash\n",
    "~$ jupyter contrib nbextension install --user\n",
    "```"
   ]
  },
  {
   "cell_type": "markdown",
   "metadata": {},
   "source": [
    "These notebook extensions give us a lot of useful tools to make coding easier! Let's try some of them"
   ]
  },
  {
   "cell_type": "markdown",
   "metadata": {},
   "source": [
    "<hr>"
   ]
  },
  {
   "cell_type": "markdown",
   "metadata": {},
   "source": [
    "#### Run __Jupyter Notebook__"
   ]
  },
  {
   "cell_type": "markdown",
   "metadata": {},
   "source": [
    "Now we can run __Jupyter Notebook__:"
   ]
  },
  {
   "cell_type": "markdown",
   "metadata": {},
   "source": [
    "In terminal, do:\n",
    "```bash\n",
    "# default port\n",
    "~$ jupyter notebook --port=8888 \n",
    "```"
   ]
  },
  {
   "cell_type": "markdown",
   "metadata": {},
   "source": [
    "Here, `--port` specifies which port we want to use. If it is taken, it will use the next available one (maybe `8889`. We can open a new terminal window to run `jupyter notebook --port=8888` and check the output."
   ]
  },
  {
   "cell_type": "markdown",
   "metadata": {},
   "source": [
    "Now we can try out something in the notebook."
   ]
  },
  {
   "cell_type": "markdown",
   "metadata": {},
   "source": [
    "---"
   ]
  },
  {
   "cell_type": "markdown",
   "metadata": {},
   "source": [
    "#### markdown"
   ]
  },
  {
   "cell_type": "markdown",
   "metadata": {},
   "source": [
    "All the materials above are written in markdown. We can switch the content type in each cell in the menu bar. Different key bindings have different shortcuts. We can use ___Help___ menu to find the corresponding shortcut."
   ]
  },
  {
   "cell_type": "markdown",
   "metadata": {},
   "source": [
    "Markdown is a lightweight markup language to format text. It is easy to use and contains formatting tools for most of the highlighting that we wants. See [here](https://github.com/adam-p/markdown-here/wiki/Markdown-Cheatsheet) for more details."
   ]
  },
  {
   "cell_type": "markdown",
   "metadata": {},
   "source": [
    "By combining the use of markdown and code as well as results really help logging one's research a lot easier."
   ]
  },
  {
   "cell_type": "markdown",
   "metadata": {},
   "source": [
    "For example, see below"
   ]
  },
  {
   "cell_type": "markdown",
   "metadata": {},
   "source": [
    "In the following, I am going to calculate something...\n",
    "$$x = 1+2.6^2-15$$"
   ]
  },
  {
   "cell_type": "code",
   "execution_count": 1,
   "metadata": {
    "ExecuteTime": {
     "end_time": "2018-09-19T23:31:34.527895Z",
     "start_time": "2018-09-19T23:31:34.499493Z"
    }
   },
   "outputs": [
    {
     "data": {
      "text/plain": [
       "-7.239999999999999"
      ]
     },
     "execution_count": 1,
     "metadata": {},
     "output_type": "execute_result"
    }
   ],
   "source": [
    "1+ 2.6**2 - 15"
   ]
  },
  {
   "cell_type": "markdown",
   "metadata": {},
   "source": [
    "As you can see, we first write down what we want to do in markdown. We can even use latex style formula to create equations! The binding of code and output also makes it easier to communicate with collaborators or just debug by oneself."
   ]
  }
 ],
 "metadata": {
  "kernelspec": {
   "display_name": "Python 3",
   "language": "python",
   "name": "python3"
  },
  "language_info": {
   "codemirror_mode": {
    "name": "ipython",
    "version": 3
   },
   "file_extension": ".py",
   "mimetype": "text/x-python",
   "name": "python",
   "nbconvert_exporter": "python",
   "pygments_lexer": "ipython3",
   "version": "3.7.0"
  },
  "toc": {
   "base_numbering": 1,
   "nav_menu": {},
   "number_sections": true,
   "sideBar": true,
   "skip_h1_title": false,
   "title_cell": "Table of Contents",
   "title_sidebar": "Contents",
   "toc_cell": false,
   "toc_position": {},
   "toc_section_display": "block",
   "toc_window_display": true
  },
  "varInspector": {
   "cols": {
    "lenName": 16,
    "lenType": 16,
    "lenVar": 40
   },
   "kernels_config": {
    "python": {
     "delete_cmd_postfix": "",
     "delete_cmd_prefix": "del ",
     "library": "var_list.py",
     "varRefreshCmd": "print(var_dic_list())"
    },
    "r": {
     "delete_cmd_postfix": ") ",
     "delete_cmd_prefix": "rm(",
     "library": "var_list.r",
     "varRefreshCmd": "cat(var_dic_list()) "
    }
   },
   "types_to_exclude": [
    "module",
    "function",
    "builtin_function_or_method",
    "instance",
    "_Feature"
   ],
   "window_display": false
  }
 },
 "nbformat": 4,
 "nbformat_minor": 2
}
